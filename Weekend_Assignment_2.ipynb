{
 "cells": [
  {
   "cell_type": "code",
   "execution_count": 4,
   "metadata": {},
   "outputs": [],
   "source": [
    "def make_shirt(size,text):\n",
    "    \"\"\"Making a T-Shirt\"\"\"\n",
    "    print(f\"The size of the shirt is {size} and the text printed on the shirt is '{text}'\")\n",
    "    "
   ]
  },
  {
   "cell_type": "code",
   "execution_count": 6,
   "metadata": {},
   "outputs": [
    {
     "name": "stdout",
     "output_type": "stream",
     "text": [
      "The size of the shirt is 34 and the text printed on the shirt is 'Hello World!'\n"
     ]
    }
   ],
   "source": [
    "make_shirt(34,\"Hello World!\")"
   ]
  },
  {
   "cell_type": "code",
   "execution_count": 7,
   "metadata": {},
   "outputs": [
    {
     "name": "stdout",
     "output_type": "stream",
     "text": [
      "The size of the shirt is 34 and the text printed on the shirt is 'Hello World!'\n"
     ]
    }
   ],
   "source": [
    "make_shirt(size=34,text=\"Hello World!\")"
   ]
  },
  {
   "cell_type": "code",
   "execution_count": 1,
   "metadata": {},
   "outputs": [],
   "source": [
    "def make_shirt(size,text):\n",
    "    \"\"\"Making a T-Shirt\"\"\"\n",
    "    print(f\"The size of the shirt is {size} and the text printed on the shirt is '{text}'\")"
   ]
  },
  {
   "cell_type": "code",
   "execution_count": 3,
   "metadata": {},
   "outputs": [
    {
     "name": "stdout",
     "output_type": "stream",
     "text": [
      "The size of the shirt is 'M' and the text printed on the shirt is 'Hello World!'\n"
     ]
    }
   ],
   "source": [
    "make_shirt(\"'M'\",\"Hello World!\")"
   ]
  },
  {
   "cell_type": "code",
   "execution_count": 5,
   "metadata": {},
   "outputs": [
    {
     "name": "stdout",
     "output_type": "stream",
     "text": [
      "The size of the shirt is 'M' and the text printed on the shirt is 'Hello World!'\n"
     ]
    }
   ],
   "source": [
    "make_shirt(size=\"'M'\",text=\"Hello World!\")"
   ]
  },
  {
   "cell_type": "code",
   "execution_count": 12,
   "metadata": {},
   "outputs": [],
   "source": [
    "def make_shirt(size):\n",
    "    \"\"\"Making a T-Shirt\"\"\"\n",
    "    if size == 'L':\n",
    "        print(f\"The size of the shirt is '{size}' and the text printed on the shirt is 'I Love Python'\")\n",
    "    else:\n",
    "        print(f\"The size of the shirt is '{size}' and the text printed on the shirt is 'Hello World!'\")"
   ]
  },
  {
   "cell_type": "code",
   "execution_count": 13,
   "metadata": {},
   "outputs": [
    {
     "name": "stdout",
     "output_type": "stream",
     "text": [
      "The size of the shirt is 'L' and the text printed on the shirt is 'I Love Python'\n"
     ]
    }
   ],
   "source": [
    "make_shirt(\"L\")"
   ]
  },
  {
   "cell_type": "code",
   "execution_count": 14,
   "metadata": {},
   "outputs": [
    {
     "name": "stdout",
     "output_type": "stream",
     "text": [
      "The size of the shirt is 'S' and the text printed on the shirt is 'Hello World!'\n"
     ]
    }
   ],
   "source": [
    "make_shirt(\"S\")"
   ]
  },
  {
   "cell_type": "code",
   "execution_count": 17,
   "metadata": {},
   "outputs": [],
   "source": [
    "def make_shirt(size):\n",
    "    \"\"\"Making a T-Shirt\"\"\"\n",
    "    if (size == 'L' or size == 'M'):\n",
    "        print(f\"The size of the shirt is '{size}' and the text printed on the shirt is 'I Love Python'\")\n",
    "    else:\n",
    "        print(f\"The size of the shirt is '{size}' and the text printed on the shirt is 'Hello World!'\")"
   ]
  },
  {
   "cell_type": "code",
   "execution_count": 18,
   "metadata": {},
   "outputs": [
    {
     "name": "stdout",
     "output_type": "stream",
     "text": [
      "The size of the shirt is 'L' and the text printed on the shirt is 'I Love Python'\n"
     ]
    }
   ],
   "source": [
    "make_shirt(\"L\")"
   ]
  },
  {
   "cell_type": "code",
   "execution_count": 19,
   "metadata": {},
   "outputs": [
    {
     "name": "stdout",
     "output_type": "stream",
     "text": [
      "The size of the shirt is 'S' and the text printed on the shirt is 'Hello World!'\n"
     ]
    }
   ],
   "source": [
    "make_shirt(\"S\")"
   ]
  },
  {
   "cell_type": "code",
   "execution_count": 20,
   "metadata": {},
   "outputs": [
    {
     "name": "stdout",
     "output_type": "stream",
     "text": [
      "The size of the shirt is 'M' and the text printed on the shirt is 'I Love Python'\n"
     ]
    }
   ],
   "source": [
    "make_shirt(\"M\")"
   ]
  },
  {
   "cell_type": "code",
   "execution_count": null,
   "metadata": {},
   "outputs": [],
   "source": []
  },
  {
   "cell_type": "code",
   "execution_count": 21,
   "metadata": {},
   "outputs": [],
   "source": [
    "def describe_city(city_name,country=\"Iceland\"):\n",
    "    \"\"\"Descring about the city\"\"\"\n",
    "    print(f\"{city_name} is in {country}\")\n",
    "    "
   ]
  },
  {
   "cell_type": "code",
   "execution_count": 22,
   "metadata": {},
   "outputs": [
    {
     "name": "stdout",
     "output_type": "stream",
     "text": [
      "Akureyri is in Iceland\n"
     ]
    }
   ],
   "source": [
    "describe_city('Akureyri')"
   ]
  },
  {
   "cell_type": "code",
   "execution_count": 24,
   "metadata": {},
   "outputs": [
    {
     "name": "stdout",
     "output_type": "stream",
     "text": [
      "Vik is in Iceland\n"
     ]
    }
   ],
   "source": [
    "describe_city('Vik')"
   ]
  },
  {
   "cell_type": "code",
   "execution_count": 25,
   "metadata": {},
   "outputs": [
    {
     "name": "stdout",
     "output_type": "stream",
     "text": [
      "Vijayawada is in India\n"
     ]
    }
   ],
   "source": [
    "describe_city('Vijayawada','India')"
   ]
  },
  {
   "cell_type": "code",
   "execution_count": null,
   "metadata": {},
   "outputs": [],
   "source": []
  },
  {
   "cell_type": "code",
   "execution_count": null,
   "metadata": {},
   "outputs": [],
   "source": []
  }
 ],
 "metadata": {
  "kernelspec": {
   "display_name": "Python 3",
   "language": "python",
   "name": "python3"
  },
  "language_info": {
   "codemirror_mode": {
    "name": "ipython",
    "version": 3
   },
   "file_extension": ".py",
   "mimetype": "text/x-python",
   "name": "python",
   "nbconvert_exporter": "python",
   "pygments_lexer": "ipython3",
   "version": "3.7.3"
  }
 },
 "nbformat": 4,
 "nbformat_minor": 2
}
